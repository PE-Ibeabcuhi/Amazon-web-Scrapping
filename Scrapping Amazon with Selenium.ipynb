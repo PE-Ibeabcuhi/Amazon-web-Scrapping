{
 "cells": [
  {
   "cell_type": "markdown",
   "id": "2f7b95c8",
   "metadata": {},
   "source": [
    "### Introduction\n",
    "This code extracts details from the Amazon web store using Selenium, a library for web scraping. Please note that if the website updates its system and changes the HTML elements, the code may no longer work. As of now, the code functions correctly."
   ]
  },
  {
   "cell_type": "code",
   "execution_count": null,
   "id": "03ba63a2",
   "metadata": {},
   "outputs": [],
   "source": [
    "# Installing webdriver manager\n",
    "pip install webdriver-manager"
   ]
  },
  {
   "cell_type": "code",
   "execution_count": 11,
   "id": "0f894717",
   "metadata": {},
   "outputs": [
    {
     "name": "stderr",
     "output_type": "stream",
     "text": [
      "/var/folders/30/w8rfppb53z53xxq22dqjvh6c0000gn/T/ipykernel_59160/863736666.py:18: DeprecationWarning: executable_path has been deprecated, please pass in a Service object\n",
      "  driver = webdriver.Chrome(executable_path=CHROME_DRIVER_PATH)\n"
     ]
    }
   ],
   "source": [
    "# Import webdriver\n",
    "from selenium import webdriver\n",
    "\n",
    "# Import time\n",
    "import time\n",
    "\n",
    "# import service\n",
    "from selenium.webdriver.chrome.service import Service\n",
    "\n",
    "# Import webdriver manager\n",
    "from webdriver_manager.chrome import ChromeDriverManager \n",
    "\n",
    "#Importing web driver by function\n",
    "from selenium.webdriver.common.by import By\n",
    "\n",
    "# Import NoSuchElementException\n",
    "from selenium.common.exceptions import NoSuchElementException\n"
   ]
  },
  {
   "cell_type": "code",
   "execution_count": null,
   "id": "eeb3da69",
   "metadata": {},
   "outputs": [],
   "source": [
    "# Adding your Chrome driver path\n",
    "CHROME_DRIVER_PATH = 'Users/user/Downloads/chromedriver_mac64/chromedriver'\n",
    "\n",
    "# initialize the Selenium WebDriver\n",
    "driver = webdriver.Chrome(executable_path=CHROME_DRIVER_PATH)\n",
    "\n",
    "# create a driver object using driver_path as a parameter\n",
    "driver = webdriver.Chrome(service = Service(executable_path=CHROME_DRIVER_PATH))"
   ]
  },
  {
   "cell_type": "code",
   "execution_count": null,
   "id": "cd5fe5e1",
   "metadata": {},
   "outputs": [],
   "source": [
    "# Create object ChromeOptions()\n",
    "chrome_options = webdriver.ChromeOptions()            \n",
    "chrome_options.add_argument('--headless')           \n",
    "chrome_options.add_argument('--no-sandbox')                             \n",
    "chrome_options.add_argument('--disable-dev-shm-usage')\n",
    "\n",
    "driver= webdriver.Chrome(options=chrome_options, service = Service(ChromeDriverManager().install()))"
   ]
  },
  {
   "cell_type": "code",
   "execution_count": 12,
   "id": "0e6e1e1a",
   "metadata": {},
   "outputs": [],
   "source": [
    "# assign your website to scrape\n",
    "URL = 'https://www.amazon.com'\n",
    "\n",
    "# Opening the URL with driver.get()\n",
    "driver.get(URL)"
   ]
  },
  {
   "cell_type": "code",
   "execution_count": 1,
   "id": "eb5cbf1d",
   "metadata": {},
   "outputs": [],
   "source": [
    "# Writing a function that scrapes informations out of Amazon\n",
    "def scrape_amazon(search_term, max_pages):\n",
    "    '''\n",
    "    This function scrapes the products title, price, and ratings. It takes two arguments;\n",
    "    search_term: This is the item we want to scrape\n",
    "    max_pages: This is the number of pages we want to loop through on the Amazon webpage.\n",
    "    '''\n",
    "    # Find the search box and input the search term\n",
    "    search_field = driver.find_element(By.ID,'twotabsearchtextbox')\n",
    "    search_field.send_keys(search_term)\n",
    "    \n",
    "    # Click the search button\n",
    "    search_button = driver.find_element(By.ID,'nav-search-submit-button')\n",
    "    search_button.click()\n",
    "    \n",
    "    # set a timer delay\n",
    "    time.sleep(5)\n",
    "    \n",
    "    # Initialize an empty list to store the results\n",
    "    results = []\n",
    "\n",
    "    # Loop through the specified number of pages\n",
    "    for i in range(max_pages):\n",
    "        \n",
    "        # Wait for the page to load\n",
    "        time.sleep(5)\n",
    "        \n",
    "        # Find all of the search result elements on the page\n",
    "        search_results = driver.find_elements(By.XPATH, '//div[contains(@class, \"s-result-item s-asin\")]')\n",
    "        \n",
    "        # Loop through each search result and extract the product information\n",
    "        for result in search_results:\n",
    "            \n",
    "            # Extracting the products title\n",
    "            try:\n",
    "                title = result.find_element(By.CSS_SELECTOR,\"h2 a span\").text\n",
    "            except NoSuchElementException:\n",
    "                title = \"N/A\"\n",
    "            \n",
    "            # Extracting the products price\n",
    "            try:\n",
    "                whole_price = result.find_elements(By.XPATH, './/span[@class=\"a-price-whole\"]')\n",
    "                fraction_price = result.find_elements(By.XPATH, './/span[@class=\"a-price-fraction\"]')\n",
    "                price = '.'.join([whole_price[0].text, fraction_price[0].text])\n",
    "            except NoSuchElementException:\n",
    "                price = \"N/A\"\n",
    "            \n",
    "            # Extracting the products ratings\n",
    "            try:\n",
    "                ratings_box = result.find_elements(By.XPATH, './/div[@class=\"a-row a-size-small\"]/span')\n",
    "                ratings = ratings_box[0].get_attribute('aria-label')\n",
    "            except NoSuchElementException:\n",
    "                ratings = \"N/A\"\n",
    "\n",
    "            # Add the product information to the list of results\n",
    "            results.append({\n",
    "                \"title\": title,\n",
    "                \"price\": price,\n",
    "                \"rating\": ratings\n",
    "            })\n",
    "\n",
    "        # Click the \"Next\" button\n",
    "        try:\n",
    "            next_button = driver.find_element(By.CSS_SELECTOR,\"a.s-pagination-next\")\n",
    "            next_button.click()\n",
    "        except NoSuchElementException:\n",
    "            break\n",
    "\n",
    "    # Close the browser window\n",
    "    driver.quit()\n",
    "    return results #Return the list"
   ]
  },
  {
   "cell_type": "code",
   "execution_count": 13,
   "id": "736c5da1",
   "metadata": {},
   "outputs": [
    {
     "data": {
      "text/plain": [
       "[{'title': 'Apple iPhone 12 Mini, 64GB, Black - Unlocked (Renewed Premium)',\n",
       "  'price': '399.00',\n",
       "  'rating': '4.3 out of 5 stars'},\n",
       " {'title': 'Apple iPhone 11, 64GB, Red - Unlocked (Renewed)',\n",
       "  'price': '307.99',\n",
       "  'rating': '4.3 out of 5 stars'},\n",
       " {'title': 'Apple iPhone XR, 64GB, Black - Unlocked (Renewed)',\n",
       "  'price': '227.95',\n",
       "  'rating': '4.5 out of 5 stars'},\n",
       " {'title': 'Apple iPhone 14, 128GB, Midnight - Unlocked (Renewed)',\n",
       "  'price': '683.00',\n",
       "  'rating': '4.4 out of 5 stars'},\n",
       " {'title': 'iPhone 13 Pro Max, 128GB, Silver - Unlocked (Renewed Premium)',\n",
       "  'price': '999.00',\n",
       "  'rating': '4.0 out of 5 stars'},\n",
       " {'title': 'Apple iPhone 14 Pro Max, 256GB, Silver - Unlocked (Renewed Premium)',\n",
       "  'price': '1,280.00',\n",
       "  'rating': '2.9 out of 5 stars'},\n",
       " {'title': 'Apple iPhone 14 Pro, 256GB, Space Black - Unlocked (Renewed Premium)',\n",
       "  'price': '1,125.00',\n",
       "  'rating': '5.0 out of 5 stars'},\n",
       " {'title': 'iPhone 13, 128GB, Product Red - Unlocked (Renewed Premium)',\n",
       "  'price': '655.00',\n",
       "  'rating': '4.3 out of 5 stars'},\n",
       " {'title': 'Apple iPhone 14 Pro, 256GB, Deep Purple - Unlocked (Renewed)',\n",
       "  'price': '1,006.50',\n",
       "  'rating': '4.3 out of 5 stars'},\n",
       " {'title': 'Apple iPhone 12 Pro, 256GB, Pacific Blue - Unlocked (Renewed Premium)',\n",
       "  'price': '699.00',\n",
       "  'rating': '4.4 out of 5 stars'},\n",
       " {'title': 'Apple iPhone 12 Pro, 128GB, Graphite - Unlocked (Renewed Premium)',\n",
       "  'price': '646.00',\n",
       "  'rating': '4.3 out of 5 stars'},\n",
       " {'title': 'iPhone 13 Pro, 128GB, Gold - Unlocked (Renewed Premium)',\n",
       "  'price': '849.00',\n",
       "  'rating': '4.1 out of 5 stars'},\n",
       " {'title': 'Apple iPhone 12 Mini, 256GB, Blue - Unlocked (Renewed Premium)',\n",
       "  'price': '499.00',\n",
       "  'rating': '4.3 out of 5 stars'},\n",
       " {'title': 'iPhone 13 Pro, 512GB, Graphite - Unlocked (Renewed Premium)',\n",
       "  'price': '970.00',\n",
       "  'rating': '3.3 out of 5 stars'},\n",
       " {'title': 'Apple iPhone XR, 128GB, White - For Verizon (Renewed)',\n",
       "  'price': '302.42',\n",
       "  'rating': '4.2 out of 5 stars'},\n",
       " {'title': 'Apple iPhone SE (2nd Generation), US Version, 128GB, Black - Unlocked (Renewed)',\n",
       "  'price': '174.50',\n",
       "  'rating': '4.4 out of 5 stars'},\n",
       " {'title': 'Apple iPhone 12, 64GB, Green - Fully Unlocked (Renewed)',\n",
       "  'price': '445.00',\n",
       "  'rating': '4.3 out of 5 stars'}]"
      ]
     },
     "execution_count": 13,
     "metadata": {},
     "output_type": "execute_result"
    }
   ],
   "source": [
    "search_term = 'Iphone'\n",
    "max_pages = 2\n",
    "scrape_amazon(search_term, max_pages)"
   ]
  },
  {
   "cell_type": "code",
   "execution_count": null,
   "id": "969c995d",
   "metadata": {},
   "outputs": [],
   "source": []
  }
 ],
 "metadata": {
  "kernelspec": {
   "display_name": "Python 3 (ipykernel)",
   "language": "python",
   "name": "python3"
  },
  "language_info": {
   "codemirror_mode": {
    "name": "ipython",
    "version": 3
   },
   "file_extension": ".py",
   "mimetype": "text/x-python",
   "name": "python",
   "nbconvert_exporter": "python",
   "pygments_lexer": "ipython3",
   "version": "3.9.12"
  }
 },
 "nbformat": 4,
 "nbformat_minor": 5
}
